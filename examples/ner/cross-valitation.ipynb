{
 "cells": [
  {
   "cell_type": "code",
   "execution_count": null,
   "metadata": {},
   "outputs": [],
   "source": [
    "import re\n",
    "import spacy\n",
    "import numpy as np\n",
    "import pandas as pd\n",
    "import json\n",
    "from tqdm import tqdm\n",
    "import pickle\n",
    "from sklearn.model_selection import KFold\n",
    "from evaluate import run_eval\n",
    "import itertools"
   ]
  },
  {
   "cell_type": "code",
   "execution_count": null,
   "metadata": {},
   "outputs": [],
   "source": [
    "# 加载数据\n",
    "basedir=\"./\"\n",
    "fout=f\"{basedir}/sample2values.pkl\"\n",
    "with open(fout, \"rb\") as fw:\n",
    "    sample2values=pickle.load(fw)"
   ]
  },
  {
   "cell_type": "code",
   "execution_count": null,
   "metadata": {},
   "outputs": [],
   "source": [
    "# 设置参数字典\n",
    "parameters={\"c\": [10, 15, 25, 35, 40, 45, 50],\n",
    "            \"f\": [1, 2],\n",
    "           }\n",
    "paras=gen_grid_paras(parameters)\n",
    "\n",
    "# 拆分数据集: 五折交叉验证\n",
    "kf = KFold(n_splits=5, shuffle=True, random_state=42)\n",
    "sv=list(sample2values.items())\n",
    "\n",
    "results={}\n",
    "for train_set, test_set in kf.split(sv):\n",
    "    # 训练、测试数据文件生成\n",
    "    trainDatas=[sv[i] for i in train_set]\n",
    "    testDatas=[sv[i] for i in test_set]\n",
    "    print(\"{} trainDatas, {} testDatas\".format(len(trainDatas), len(testDatas)))\n",
    "    with open(f\"{basedir}/trainDatas.pkl\", \"wb\") as fw:\n",
    "        pickle.dump(trainDatas, fw)\n",
    "    with open(f\"{basedir}/testDatas.pkl\", \"wb\") as fw:\n",
    "        pickle.dump(testDatas, fw)\n",
    "\n",
    "    tocrf(trainDatas, f\"{basedir}/train-crf.data\", hyphen=\"\\t\", labelName=\"LABEL\")\n",
    "    tocrf(testDatas, f\"{basedir}/test-crf.data\", hyphen=\"\\t\", labelName=\"LABEL\")\n",
    "    \n",
    "    # 模型训练\n",
    "    for p in paras.values():\n",
    "        content=\" \".join([f\"-{k} {v}\" for k,v in p.items()])\n",
    "        cmd_train=f\"crf_learn -p 32 {content} template train.data crfpp_model.bin\\ncrf_test -m crfpp_model.bin test.data > test.result\"\n",
    "        with open(\"run.sh\", \"w\") as fw2:\n",
    "            fw2.write(cmd_train)\n",
    "        !sh run.sh\n",
    "        # 在测试数据集上评价结果\n",
    "        f1=run_eval(\"./test.result\", head=2, verbose=True)\n",
    "        print(\"{}, f1={}\".format(content, f1))\n",
    "        if content not in results.keys():\n",
    "            results[content]=[f1]\n",
    "        else:\n",
    "            results[content].append(f1)\n",
    "    print(\"\\n\\n\")"
   ]
  },
  {
   "cell_type": "code",
   "execution_count": null,
   "metadata": {},
   "outputs": [],
   "source": [
    "# 针对评价结果进行排序\n",
    "fresults={k: {\"f1\": v, \"mean_f1\":np.mean(v)} for k,v in results.items()}\n",
    "print(pd.DataFrame(fresults).T.sort_values(\"mean_f1\", ascending=False))"
   ]
  },
  {
   "cell_type": "code",
   "execution_count": null,
   "metadata": {},
   "outputs": [],
   "source": []
  }
 ],
 "metadata": {
  "kernelspec": {
   "display_name": "py36",
   "language": "python",
   "name": "py36"
  },
  "language_info": {
   "codemirror_mode": {
    "name": "ipython",
    "version": 3
   },
   "file_extension": ".py",
   "mimetype": "text/x-python",
   "name": "python",
   "nbconvert_exporter": "python",
   "pygments_lexer": "ipython3",
   "version": "3.6.8"
  }
 },
 "nbformat": 4,
 "nbformat_minor": 2
}
